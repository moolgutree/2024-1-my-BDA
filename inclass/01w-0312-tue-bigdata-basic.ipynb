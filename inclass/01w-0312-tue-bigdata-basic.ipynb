# **빅데이터분석프로그래밍**
## 01주 2024-0312-화
### 파이썬 설치 확인

import sys
sys.version

import site
site.getsitepackages()

import numpy as np
import pandas as pd
print(np.__version__)
print(pd.__version__)
